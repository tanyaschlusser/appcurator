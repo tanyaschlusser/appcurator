{
 "metadata": {
  "celltoolbar": "Slideshow",
  "name": "",
  "signature": "sha256:d518ebbc991f944d2047122e47b3c0d102d348116f2b68887aec581562c90211"
 },
 "nbformat": 3,
 "nbformat_minor": 0,
 "worksheets": [
  {
   "cells": [
    {
     "cell_type": "markdown",
     "metadata": {
      "slideshow": {
       "slide_type": "slide"
      }
     },
     "source": [
      "Heroku + Flask + 10 weeks = Prototype\n",
      "=====================================\n",
      "\n",
      "Goal\n",
      "----\n",
      "- Learn Python\n",
      "- Prototype a platform to share and rate healthcare applications\n",
      "- For free \n"
     ]
    },
    {
     "cell_type": "code",
     "collapsed": false,
     "input": [],
     "language": "python",
     "metadata": {},
     "outputs": []
    }
   ],
   "metadata": {}
  }
 ]
}